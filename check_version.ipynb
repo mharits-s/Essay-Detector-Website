{
 "cells": [
  {
   "cell_type": "code",
   "execution_count": 1,
   "id": "852637cc",
   "metadata": {},
   "outputs": [],
   "source": [
    "%load_ext watermark\n"
   ]
  },
  {
   "cell_type": "code",
   "execution_count": 2,
   "id": "f70efbdb",
   "metadata": {},
   "outputs": [],
   "source": [
    "from flask import Flask, render_template, request,  send_from_directory\n",
    "import tensorflow as tf\n",
    "import pickle\n",
    "import re\n",
    "import numpy as np\n",
    "from transformers import BertTokenizer, TFBertModel\n",
    "from collections import Counter\n",
    "from nltk.tokenize import sent_tokenize\n",
    "import matplotlib.pyplot as plt\n",
    "from IPython.display import display, HTML"
   ]
  },
  {
   "cell_type": "code",
   "execution_count": 3,
   "id": "4fb5b9e5",
   "metadata": {},
   "outputs": [
    {
     "name": "stdout",
     "output_type": "stream",
     "text": [
      "numpy       : 1.26.4\n",
      "transformers: 4.45.2\n",
      "flask       : 3.0.3\n",
      "nltk        : 3.8.1\n",
      "re          : 2.2.1\n",
      "IPython     : 8.25.0\n",
      "matplotlib  : 3.8.4\n",
      "tensorflow  : 2.17.0\n",
      "\n"
     ]
    }
   ],
   "source": [
    "%watermark -iv"
   ]
  }
 ],
 "metadata": {
  "kernelspec": {
   "display_name": "base",
   "language": "python",
   "name": "python3"
  },
  "language_info": {
   "codemirror_mode": {
    "name": "ipython",
    "version": 3
   },
   "file_extension": ".py",
   "mimetype": "text/x-python",
   "name": "python",
   "nbconvert_exporter": "python",
   "pygments_lexer": "ipython3",
   "version": "3.12.4"
  }
 },
 "nbformat": 4,
 "nbformat_minor": 5
}
